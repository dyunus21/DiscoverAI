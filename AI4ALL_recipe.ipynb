{
  "cells": [
    {
      "cell_type": "markdown",
      "metadata": {
        "id": "view-in-github",
        "colab_type": "text"
      },
      "source": [
        "<a href=\"https://colab.research.google.com/github/dyunus21/DiscoverAIGroup2/blob/main/AI4ALL_recipe.ipynb\" target=\"_parent\"><img src=\"https://colab.research.google.com/assets/colab-badge.svg\" alt=\"Open In Colab\"/></a>"
      ]
    },
    {
      "cell_type": "markdown",
      "metadata": {
        "id": "oXxT6ABP9RyV"
      },
      "source": [
        "# Teamwork Activities"
      ]
    },
    {
      "cell_type": "code",
      "execution_count": 195,
      "metadata": {
        "id": "oYjPHoX39pjE"
      },
      "outputs": [],
      "source": [
        "import pandas as pd\n",
        "import numpy as np \n",
        "from matplotlib import pyplot as plt"
      ]
    },
    {
      "cell_type": "code",
      "execution_count": 196,
      "metadata": {
        "colab": {
          "base_uri": "https://localhost:8080/"
        },
        "id": "7dnmRwkUBf31",
        "outputId": "86c70155-6c4c-4f3f-e200-7ed20062248f"
      },
      "outputs": [
        {
          "output_type": "stream",
          "name": "stdout",
          "text": [
            "Drive already mounted at /content/drive; to attempt to forcibly remount, call drive.mount(\"/content/drive\", force_remount=True).\n"
          ]
        }
      ],
      "source": [
        "from google.colab import drive\n",
        "drive.mount('/content/drive')"
      ]
    },
    {
      "cell_type": "code",
      "execution_count": 197,
      "metadata": {
        "colab": {
          "base_uri": "https://localhost:8080/",
          "height": 515
        },
        "id": "-ESs2GQb9rsf",
        "outputId": "f4777701-f372-457e-d347-a8206f6a7bd6"
      },
      "outputs": [
        {
          "output_type": "stream",
          "name": "stderr",
          "text": [
            "/usr/local/lib/python3.7/dist-packages/IPython/core/interactiveshell.py:2882: FutureWarning: The error_bad_lines argument has been deprecated and will be removed in a future version.\n",
            "\n",
            "\n",
            "  exec(code_obj, self.user_global_ns, self.user_ns)\n"
          ]
        },
        {
          "output_type": "execute_result",
          "data": {
            "text/plain": [
              "                                         name      id  minutes  \\\n",
              "0  arriba   baked winter squash mexican style  137739       55   \n",
              "1            a bit different  breakfast pizza   31490       30   \n",
              "2                   all in the kitchen  chili  112140      130   \n",
              "3                          alouette  potatoes   59389       45   \n",
              "4          amish  tomato ketchup  for canning   44061      190   \n",
              "\n",
              "                                                tags  \\\n",
              "0  ['60-minutes-or-less', 'time-to-make', 'course...   \n",
              "1  ['30-minutes-or-less', 'time-to-make', 'course...   \n",
              "2  ['time-to-make', 'course', 'preparation', 'mai...   \n",
              "3  ['60-minutes-or-less', 'time-to-make', 'course...   \n",
              "4  ['weeknight', 'time-to-make', 'course', 'main-...   \n",
              "\n",
              "                                    nutrition  n_steps  \\\n",
              "0       [51.5, 0.0, 13.0, 0.0, 2.0, 0.0, 4.0]       11   \n",
              "1   [173.4, 18.0, 0.0, 17.0, 22.0, 35.0, 1.0]        9   \n",
              "2  [269.8, 22.0, 32.0, 48.0, 39.0, 27.0, 5.0]        6   \n",
              "3   [368.1, 17.0, 10.0, 2.0, 14.0, 8.0, 20.0]       11   \n",
              "4   [352.9, 1.0, 337.0, 23.0, 3.0, 0.0, 28.0]        5   \n",
              "\n",
              "                                               steps  \\\n",
              "0  ['make a choice and proceed with recipe', 'dep...   \n",
              "1  ['preheat oven to 425 degrees f', 'press dough...   \n",
              "2  ['brown ground beef in large pot', 'add choppe...   \n",
              "3  ['place potatoes in a large pot of lightly sal...   \n",
              "4  ['mix all ingredients& boil for 2 1 / 2 hours ...   \n",
              "\n",
              "                                         description  \\\n",
              "0  autumn is my favorite time of year to cook! th...   \n",
              "1  this recipe calls for the crust to be prebaked...   \n",
              "2  this modified version of 'mom's' chili was a h...   \n",
              "3  this is a super easy, great tasting, make ahea...   \n",
              "4  my dh's amish mother raised him on this recipe...   \n",
              "\n",
              "                                         ingredients  n_ingredients  \n",
              "0  ['winter squash', 'mexican seasoning', 'mixed ...              7  \n",
              "1  ['prepared pizza crust', 'sausage patty', 'egg...              6  \n",
              "2  ['ground beef', 'yellow onions', 'diced tomato...             13  \n",
              "3  ['spreadable cheese with garlic and herbs', 'n...             11  \n",
              "4  ['tomato juice', 'apple cider vinegar', 'sugar...              8  "
            ],
            "text/html": [
              "\n",
              "  <div id=\"df-21c6f160-f44a-4156-b37c-6bd088a1e29d\">\n",
              "    <div class=\"colab-df-container\">\n",
              "      <div>\n",
              "<style scoped>\n",
              "    .dataframe tbody tr th:only-of-type {\n",
              "        vertical-align: middle;\n",
              "    }\n",
              "\n",
              "    .dataframe tbody tr th {\n",
              "        vertical-align: top;\n",
              "    }\n",
              "\n",
              "    .dataframe thead th {\n",
              "        text-align: right;\n",
              "    }\n",
              "</style>\n",
              "<table border=\"1\" class=\"dataframe\">\n",
              "  <thead>\n",
              "    <tr style=\"text-align: right;\">\n",
              "      <th></th>\n",
              "      <th>name</th>\n",
              "      <th>id</th>\n",
              "      <th>minutes</th>\n",
              "      <th>tags</th>\n",
              "      <th>nutrition</th>\n",
              "      <th>n_steps</th>\n",
              "      <th>steps</th>\n",
              "      <th>description</th>\n",
              "      <th>ingredients</th>\n",
              "      <th>n_ingredients</th>\n",
              "    </tr>\n",
              "  </thead>\n",
              "  <tbody>\n",
              "    <tr>\n",
              "      <th>0</th>\n",
              "      <td>arriba   baked winter squash mexican style</td>\n",
              "      <td>137739</td>\n",
              "      <td>55</td>\n",
              "      <td>['60-minutes-or-less', 'time-to-make', 'course...</td>\n",
              "      <td>[51.5, 0.0, 13.0, 0.0, 2.0, 0.0, 4.0]</td>\n",
              "      <td>11</td>\n",
              "      <td>['make a choice and proceed with recipe', 'dep...</td>\n",
              "      <td>autumn is my favorite time of year to cook! th...</td>\n",
              "      <td>['winter squash', 'mexican seasoning', 'mixed ...</td>\n",
              "      <td>7</td>\n",
              "    </tr>\n",
              "    <tr>\n",
              "      <th>1</th>\n",
              "      <td>a bit different  breakfast pizza</td>\n",
              "      <td>31490</td>\n",
              "      <td>30</td>\n",
              "      <td>['30-minutes-or-less', 'time-to-make', 'course...</td>\n",
              "      <td>[173.4, 18.0, 0.0, 17.0, 22.0, 35.0, 1.0]</td>\n",
              "      <td>9</td>\n",
              "      <td>['preheat oven to 425 degrees f', 'press dough...</td>\n",
              "      <td>this recipe calls for the crust to be prebaked...</td>\n",
              "      <td>['prepared pizza crust', 'sausage patty', 'egg...</td>\n",
              "      <td>6</td>\n",
              "    </tr>\n",
              "    <tr>\n",
              "      <th>2</th>\n",
              "      <td>all in the kitchen  chili</td>\n",
              "      <td>112140</td>\n",
              "      <td>130</td>\n",
              "      <td>['time-to-make', 'course', 'preparation', 'mai...</td>\n",
              "      <td>[269.8, 22.0, 32.0, 48.0, 39.0, 27.0, 5.0]</td>\n",
              "      <td>6</td>\n",
              "      <td>['brown ground beef in large pot', 'add choppe...</td>\n",
              "      <td>this modified version of 'mom's' chili was a h...</td>\n",
              "      <td>['ground beef', 'yellow onions', 'diced tomato...</td>\n",
              "      <td>13</td>\n",
              "    </tr>\n",
              "    <tr>\n",
              "      <th>3</th>\n",
              "      <td>alouette  potatoes</td>\n",
              "      <td>59389</td>\n",
              "      <td>45</td>\n",
              "      <td>['60-minutes-or-less', 'time-to-make', 'course...</td>\n",
              "      <td>[368.1, 17.0, 10.0, 2.0, 14.0, 8.0, 20.0]</td>\n",
              "      <td>11</td>\n",
              "      <td>['place potatoes in a large pot of lightly sal...</td>\n",
              "      <td>this is a super easy, great tasting, make ahea...</td>\n",
              "      <td>['spreadable cheese with garlic and herbs', 'n...</td>\n",
              "      <td>11</td>\n",
              "    </tr>\n",
              "    <tr>\n",
              "      <th>4</th>\n",
              "      <td>amish  tomato ketchup  for canning</td>\n",
              "      <td>44061</td>\n",
              "      <td>190</td>\n",
              "      <td>['weeknight', 'time-to-make', 'course', 'main-...</td>\n",
              "      <td>[352.9, 1.0, 337.0, 23.0, 3.0, 0.0, 28.0]</td>\n",
              "      <td>5</td>\n",
              "      <td>['mix all ingredients&amp; boil for 2 1 / 2 hours ...</td>\n",
              "      <td>my dh's amish mother raised him on this recipe...</td>\n",
              "      <td>['tomato juice', 'apple cider vinegar', 'sugar...</td>\n",
              "      <td>8</td>\n",
              "    </tr>\n",
              "  </tbody>\n",
              "</table>\n",
              "</div>\n",
              "      <button class=\"colab-df-convert\" onclick=\"convertToInteractive('df-21c6f160-f44a-4156-b37c-6bd088a1e29d')\"\n",
              "              title=\"Convert this dataframe to an interactive table.\"\n",
              "              style=\"display:none;\">\n",
              "        \n",
              "  <svg xmlns=\"http://www.w3.org/2000/svg\" height=\"24px\"viewBox=\"0 0 24 24\"\n",
              "       width=\"24px\">\n",
              "    <path d=\"M0 0h24v24H0V0z\" fill=\"none\"/>\n",
              "    <path d=\"M18.56 5.44l.94 2.06.94-2.06 2.06-.94-2.06-.94-.94-2.06-.94 2.06-2.06.94zm-11 1L8.5 8.5l.94-2.06 2.06-.94-2.06-.94L8.5 2.5l-.94 2.06-2.06.94zm10 10l.94 2.06.94-2.06 2.06-.94-2.06-.94-.94-2.06-.94 2.06-2.06.94z\"/><path d=\"M17.41 7.96l-1.37-1.37c-.4-.4-.92-.59-1.43-.59-.52 0-1.04.2-1.43.59L10.3 9.45l-7.72 7.72c-.78.78-.78 2.05 0 2.83L4 21.41c.39.39.9.59 1.41.59.51 0 1.02-.2 1.41-.59l7.78-7.78 2.81-2.81c.8-.78.8-2.07 0-2.86zM5.41 20L4 18.59l7.72-7.72 1.47 1.35L5.41 20z\"/>\n",
              "  </svg>\n",
              "      </button>\n",
              "      \n",
              "  <style>\n",
              "    .colab-df-container {\n",
              "      display:flex;\n",
              "      flex-wrap:wrap;\n",
              "      gap: 12px;\n",
              "    }\n",
              "\n",
              "    .colab-df-convert {\n",
              "      background-color: #E8F0FE;\n",
              "      border: none;\n",
              "      border-radius: 50%;\n",
              "      cursor: pointer;\n",
              "      display: none;\n",
              "      fill: #1967D2;\n",
              "      height: 32px;\n",
              "      padding: 0 0 0 0;\n",
              "      width: 32px;\n",
              "    }\n",
              "\n",
              "    .colab-df-convert:hover {\n",
              "      background-color: #E2EBFA;\n",
              "      box-shadow: 0px 1px 2px rgba(60, 64, 67, 0.3), 0px 1px 3px 1px rgba(60, 64, 67, 0.15);\n",
              "      fill: #174EA6;\n",
              "    }\n",
              "\n",
              "    [theme=dark] .colab-df-convert {\n",
              "      background-color: #3B4455;\n",
              "      fill: #D2E3FC;\n",
              "    }\n",
              "\n",
              "    [theme=dark] .colab-df-convert:hover {\n",
              "      background-color: #434B5C;\n",
              "      box-shadow: 0px 1px 3px 1px rgba(0, 0, 0, 0.15);\n",
              "      filter: drop-shadow(0px 1px 2px rgba(0, 0, 0, 0.3));\n",
              "      fill: #FFFFFF;\n",
              "    }\n",
              "  </style>\n",
              "\n",
              "      <script>\n",
              "        const buttonEl =\n",
              "          document.querySelector('#df-21c6f160-f44a-4156-b37c-6bd088a1e29d button.colab-df-convert');\n",
              "        buttonEl.style.display =\n",
              "          google.colab.kernel.accessAllowed ? 'block' : 'none';\n",
              "\n",
              "        async function convertToInteractive(key) {\n",
              "          const element = document.querySelector('#df-21c6f160-f44a-4156-b37c-6bd088a1e29d');\n",
              "          const dataTable =\n",
              "            await google.colab.kernel.invokeFunction('convertToInteractive',\n",
              "                                                     [key], {});\n",
              "          if (!dataTable) return;\n",
              "\n",
              "          const docLinkHtml = 'Like what you see? Visit the ' +\n",
              "            '<a target=\"_blank\" href=https://colab.research.google.com/notebooks/data_table.ipynb>data table notebook</a>'\n",
              "            + ' to learn more about interactive tables.';\n",
              "          element.innerHTML = '';\n",
              "          dataTable['output_type'] = 'display_data';\n",
              "          await google.colab.output.renderOutput(dataTable, element);\n",
              "          const docLink = document.createElement('div');\n",
              "          docLink.innerHTML = docLinkHtml;\n",
              "          element.appendChild(docLink);\n",
              "        }\n",
              "      </script>\n",
              "    </div>\n",
              "  </div>\n",
              "  "
            ]
          },
          "metadata": {},
          "execution_count": 197
        }
      ],
      "source": [
        "df = pd.read_csv('/content/drive/MyDrive/AI4ALL Group 11/RAW_recipes.csv', engine='python',error_bad_lines=False)\n",
        "df.head()\n",
        "# Whole dataframe\n",
        "#df.head(len(df.index))"
      ]
    },
    {
      "cell_type": "code",
      "execution_count": 198,
      "metadata": {
        "colab": {
          "base_uri": "https://localhost:8080/"
        },
        "id": "ldMzlZ779yyZ",
        "outputId": "132392d5-e1e0-4e59-8484-004aad62f076"
      },
      "outputs": [
        {
          "output_type": "stream",
          "name": "stdout",
          "text": [
            "231637\n",
            "10\n"
          ]
        },
        {
          "output_type": "execute_result",
          "data": {
            "text/plain": [
              "name             object\n",
              "id                int64\n",
              "minutes           int64\n",
              "tags             object\n",
              "nutrition        object\n",
              "n_steps           int64\n",
              "steps            object\n",
              "description      object\n",
              "ingredients      object\n",
              "n_ingredients     int64\n",
              "dtype: object"
            ]
          },
          "metadata": {},
          "execution_count": 198
        }
      ],
      "source": [
        "# Num rows\n",
        "num_rows = len(df.index)\n",
        "print(num_rows)\n",
        "# Num cols\n",
        "num_cols = len(df.axes[1])\n",
        "print(num_cols)\n",
        "# Data types in columns\n",
        "df.dtypes\n"
      ]
    },
    {
      "cell_type": "code",
      "execution_count": 199,
      "metadata": {
        "colab": {
          "base_uri": "https://localhost:8080/"
        },
        "id": "tqceImU6-VLo",
        "outputId": "600b75b9-cc2a-41d7-8da4-c1a88cc1da74"
      },
      "outputs": [
        {
          "output_type": "execute_result",
          "data": {
            "text/plain": [
              "600"
            ]
          },
          "metadata": {},
          "execution_count": 199
        }
      ],
      "source": [
        "# Names of columns\n",
        "df.columns\n",
        "df.drop(df.index[df['minutes'] > 600], inplace=True)\n",
        "df['minutes'].max()\n"
      ]
    },
    {
      "cell_type": "code",
      "execution_count": 200,
      "metadata": {
        "colab": {
          "base_uri": "https://localhost:8080/",
          "height": 313
        },
        "id": "H8aba_aw94LQ",
        "outputId": "68994176-5dcd-40b4-8086-d3efe7ee2b21"
      },
      "outputs": [
        {
          "output_type": "execute_result",
          "data": {
            "text/plain": [
              "Text(0, 0.5, 'Number of Recipes')"
            ]
          },
          "metadata": {},
          "execution_count": 200
        },
        {
          "output_type": "display_data",
          "data": {
            "text/plain": [
              "<Figure size 432x288 with 1 Axes>"
            ],
            "image/png": "[encoded data removed]"
          },
          "metadata": {
            "needs_background": "light"
          }
        }
      ],
      "source": [
        "#Visualizations - bar graphs, histograms, \n",
        "plt.hist(df['minutes'],bins = 45)\n",
        "plt.title(\"Recipe time\")\n",
        "plt.xlabel(\"Number of Minutes\")\n",
        "plt.ylabel(\"Number of Recipes\")"
      ]
    },
    {
      "cell_type": "code",
      "execution_count": 201,
      "metadata": {
        "colab": {
          "base_uri": "https://localhost:8080/",
          "height": 313
        },
        "id": "UXhN68_rGliS",
        "outputId": "c922a16a-e709-4746-d555-28874bc11bc2"
      },
      "outputs": [
        {
          "output_type": "execute_result",
          "data": {
            "text/plain": [
              "Text(0, 0.5, 'Number of Recipes')"
            ]
          },
          "metadata": {},
          "execution_count": 201
        },
        {
          "output_type": "display_data",
          "data": {
            "text/plain": [
              "<Figure size 432x288 with 1 Axes>"
            ],
            "image/png": "[encoded data removed]"
          },
          "metadata": {
            "needs_background": "light"
          }
        }
      ],
      "source": [
        "plt.hist(df['n_ingredients'], bins = 15)\n",
        "plt.title(\"Ingredients for Recipes\")\n",
        "plt.xlabel(\"Number of Ingredients\")\n",
        "plt.ylabel(\"Number of Recipes\")"
      ]
    },
    {
      "cell_type": "code",
      "execution_count": 202,
      "metadata": {
        "colab": {
          "base_uri": "https://localhost:8080/",
          "height": 368
        },
        "id": "rJVUMQeCIjSO",
        "outputId": "dced01a8-d0ae-4320-ed7e-ff6475817119"
      },
      "outputs": [
        {
          "output_type": "execute_result",
          "data": {
            "text/plain": [
              "<matplotlib.collections.PathCollection at 0x7fd13e2834d0>"
            ]
          },
          "metadata": {},
          "execution_count": 202
        },
        {
          "output_type": "display_data",
          "data": {
            "text/plain": [
              "<Figure size 720x360 with 1 Axes>"
            ],
            "image/png": "[encoded data removed]"
          },
          "metadata": {
            "needs_background": "light"
          }
        }
      ],
      "source": [
        "plt.figure(figsize=(10,5))\n",
        "plt.title(\"Minutes and Number of Steps\")\n",
        "plt.xlabel(\"Number of Minutes\")\n",
        "plt.ylabel(\"Number of steps\")\n",
        "plt.scatter(df['minutes'],df['n_steps'])"
      ]
    },
    {
      "cell_type": "markdown",
      "metadata": {
        "id": "vraUNKxN96Rr"
      },
      "source": [
        "Discussion: Describe your dataset. How many rows are there? What are the names of some interesting columns? Which data type are the columns?\n",
        "\n",
        "What are a few predictions you would like to investigate?\n",
        "\n",
        "What do your initial data visualizations tell you about your data?\n",
        "\n",
        "What inconsistencies do you notice in your data? What are other columns (“features”) you would like to add to your data?"
      ]
    },
    {
      "cell_type": "markdown",
      "metadata": {
        "id": "PBZ-T4_T-bPd"
      },
      "source": [
        "1. There are 231,637 rows and 10 columns. Some of the interesting columns include the nutrition, steps, and ingredients. The data types are all objects (lists).\n",
        "2. When a user interacts with the chatbot, our goal is to have our algorithm parse based off a variety of user preferences. These preferences include fetching recipes that are under a certain caloric count, cook or prep time, include certain ingredients, have a small number of ingredients, and other fun preferences (like if the dish is labeled as an easy weeknight dish).\n",
        "3. We were able to use our initial data visualizations (histogram) to realize that we had some extreme outliers for the minutes that we had to discard from the data, as they were probably errors. We could also see that on average, most of these recipes require around 9 ingredients, but we see some outliers at around 25, and some with about 2 ingredients. This can be very helpful for users to limit how many ingredients they want.We thought it was very interesting that the plot of the minutes and steps did not show more of a pattern, since some things that take much less minutes still have similar if not more steps than the long ones.\n",
        "\n",
        "4. We have some problems with some minutes being extremely high, probably errors. We decided to only consider recipes that can be made in less than 600 minutes (10 hours). Before uploading, we cleansed our dataset of unnecessary columns to limit file size, but there are no gaps or null entries within our dataset. As of right now, for our chatbot recipe purposes, we are satisfied with the amount of data in the datset; we have the nutritional values, the steps, the ingredients, and some helpful tags that are necessary for recipe fetching. If possible, serving size would be a helpful column, but we don't think it is included in the data."
      ]
    },
    {
      "cell_type": "markdown",
      "metadata": {
        "id": "_iU4lk2XAC4O"
      },
      "source": [
        "Data Preparation:\n",
        "\n",
        "In our dataset, we don't have any missing values. However, we did notice some inconsistencies with the minutes category in our dataset. We realized some dishes took hundreds of thousands of minutes to cook, and we weren't sure if it was a mistake or required some long term process. However, for our purposes, we decided to limit this to make our dataset only keep recipes of at most 600 minutes. That way it still included some slow roast dishes, but anything more than 10 hours was unreasonable for our purposes. Additonally, to try to make our dataset smaller and more manageable, we deleted some columns that we knew were irrelevant to our chatbot, like uploader id. One transformation we would like to make is to split up the nutritional values so each value is in its own column. For example, the nutrition column is bunched in a list that has calories, saturated fats, etc., but we would like there to be one column for calories, one for saturated fats, and so on.\n"
      ]
    },
    {
      "cell_type": "markdown",
      "metadata": {
        "id": "NRo69ry_0z3X"
      },
      "source": [
        "**Data visualization**\n",
        "\n",
        "Our dataset contains various kinds of recipes including ingredients, cooking time, nutritional information, and useful tags that could be used to classify the recipe into categories.\n",
        "\n",
        "This dataset is a really useful component of providing recipe suggestions to users that utilize our recipe chatbot. Through our visualizations, we wanted to show the readers the number of ingredients and time it takes to create these recipes.\n",
        "\n",
        "For the most part, we decided to use histograms with the exception of one scatter plot for graphing minutes by number of steps. We made this decision because most of our data is categorical in a sense, and can't explicitly be graphed or compared to other recipes. That's why most of our graphs compare one attribute at a time, and the only one that compares multiple is the scatter plot since it is the only logical comparison.\n",
        "\n",
        "One thing that is important to note is the bias that comes from the uploaders. We don't know where the uploaders are from or what skill level they expect from people using their recipes which could introduce bias. However, these are impossible to tell from the dataset. Another thing that doesn't affect purity but would have been useful to have that is not captured in the dataset is the serving size. This would be a really nice feature for users to be able to consider."
      ]
    },
    {
      "cell_type": "markdown",
      "metadata": {
        "id": "8J2-7sAP-uBO"
      },
      "source": [
        "**Implementation, Testing, and Training**\n",
        "\n",
        "We are evaluating the performance of our implementation in two ways. One way we are checking to see if our algorithm works is by inputting the exact ingredients of a recipe and assuring our output is that recipe name.\n",
        "Another way we will test our algorithm is by putting in a couple ingredients and making sure our output is the recipe that has the most of those ingredients out of all recipes.\n",
        "We will also test that our algorithm works with ingredients that are already in the dataset and ingredients that the algorithm has not seen, so we know that the program doesn't crash with an unexpected input.\n",
        "\n",
        "Our reasoning for taking this approach is these are the ways that we expect our algorithm to be used, so these are the ways we should guarantee our algorithm to work with. This way we can easily compare our input and outputs and guarantee that our program works as expected."
      ]
    },
    {
      "cell_type": "markdown",
      "metadata": {
        "id": "BUGnYdwhtAAk"
      },
      "source": [
        "# Algorithm\n"
      ]
    },
    {
      "cell_type": "code",
      "execution_count": 203,
      "metadata": {
        "id": "V1PueGqdtFtT"
      },
      "outputs": [],
      "source": [
        "from sklearn.naive_bayes import MultinomialNB\n",
        "from sklearn.feature_extraction import DictVectorizer"
      ]
    },
    {
      "cell_type": "code",
      "execution_count": 204,
      "metadata": {
        "id": "1UxiZqzEvGyA"
      },
      "outputs": [],
      "source": [
        "data = df.values\n",
        "NUM_RECIPES = 5000\n",
        "new_data = []\n",
        "data = data[:NUM_RECIPES]\n",
        "for i in data:\n",
        "  recipe = []\n",
        "  recipe.append(i[0])  # Recipe Name\n",
        "  ingredients = list(i[8].strip('][').split(', '))\n",
        "  for j in ingredients:\n",
        "    recipe.append(j[1:-1]) # ingredients\n",
        "  new_data.append(recipe)\n",
        "\n",
        "data_dict = {}\n",
        "for i in new_data:\n",
        "  data_dict[i[0]] = i[1:]\n",
        "\n",
        "recipe_names = []\n",
        "for i in new_data:\n",
        "  recipe_names.append(i[0])\n",
        "\n",
        "recipe_names = np.array(recipe_names)\n",
        "recipe_names = recipe_names.reshape(-1)"
      ]
    },
    {
      "cell_type": "code",
      "execution_count": 205,
      "metadata": {
        "id": "IKgOB0ge70jA"
      },
      "outputs": [],
      "source": [
        "all_recipes = []\n",
        "ALL_INGREDIENTS = set()\n",
        "# Make a dict for each recipe\n",
        "for i in data:\n",
        "  ingredients = list(i[8].strip('][').split(', '))\n",
        "  recipe_dict = {}\n",
        "  for j in ingredients:\n",
        "    ALL_INGREDIENTS.add(j[1:-1])\n",
        "    recipe_dict[j[1:-1]] = 1\n",
        "  all_recipes.append(recipe_dict)\n",
        "#print(all_recipes)"
      ]
    },
    {
      "cell_type": "code",
      "execution_count": 206,
      "metadata": {
        "id": "E9pW-FH1yaf6"
      },
      "outputs": [],
      "source": [
        "dv = DictVectorizer(sparse=False)\n",
        "X = dv.fit_transform(all_recipes)\n",
        "Y = recipe_names"
      ]
    },
    {
      "cell_type": "code",
      "execution_count": 207,
      "metadata": {
        "colab": {
          "base_uri": "https://localhost:8080/"
        },
        "id": "UyLhqh_SzhGd",
        "outputId": "8c18b260-9bca-43a6-94dc-5dfeeeea774a"
      },
      "outputs": [
        {
          "output_type": "execute_result",
          "data": {
            "text/plain": [
              "MultinomialNB()"
            ]
          },
          "metadata": {},
          "execution_count": 207
        }
      ],
      "source": [
        "mnb = MultinomialNB()\n",
        "mnb.fit(X, Y)"
      ]
    },
    {
      "cell_type": "code",
      "execution_count": 208,
      "metadata": {
        "id": "rtui3900uT6n",
        "colab": {
          "base_uri": "https://localhost:8080/"
        },
        "outputId": "ad0d1d02-ec7d-4580-9dbd-29712b1eae02"
      },
      "outputs": [
        {
          "output_type": "stream",
          "name": "stdout",
          "text": [
            "Enter your ingredients: apple\n",
            "alexis apple crunch\n",
            "Recipe: alexis apple crunch\n",
            "Ingredients: apple, candy sprinkles\n",
            "Steps: \n",
            "1. first take the apple and cut the top \n",
            "2. then add nonpareils sprinkles \n",
            "\n"
          ]
        }
      ],
      "source": [
        "import re\n",
        "\n",
        "# All string parsing and outputting here :)\n",
        "def getRecipe(user_input):\n",
        "  recipes_plus_input = all_recipes.copy()\n",
        "  parsed_input = list(user_input.split(', '))\n",
        "  # One way to ignore not provided ingredients is remove them before dict\n",
        "  possible_ingredients = []\n",
        "  for i in parsed_input:\n",
        "    if i in ALL_INGREDIENTS:\n",
        "      possible_ingredients.append(i)\n",
        "\n",
        "  input_dict = {}\n",
        "  for i in possible_ingredients:\n",
        "    input_dict[i] = 1\n",
        "\n",
        "  recipes_plus_input.insert(0, input_dict)\n",
        "  test_data = dv.fit_transform(recipes_plus_input)\n",
        "  predictions = mnb.predict(test_data)\n",
        "  prediction = predictions[0]\n",
        "  print(prediction) # Outputs the predicted recipe name based off the given ingredients\n",
        "  recipe_name = prediction\n",
        "  print(f\"Recipe: {recipe_name}\")\n",
        "  recipes = df.head(NUM_RECIPES)\n",
        "  row_in_df = recipes.loc[recipes['name'] == recipe_name]\n",
        "  ingredients = row_in_df['ingredients'].values[0]\n",
        "  parsed_ingredients = list(ingredients.strip('][').split(', '))\n",
        "  output_ingredients = \"Ingredients: \"\n",
        "  count = 0\n",
        "  for i in parsed_ingredients:\n",
        "    if count:\n",
        "      output_ingredients += \", \"\n",
        "    count = 1\n",
        "    output_ingredients += f\"{i[1:-1]}\"\n",
        "  print(output_ingredients)\n",
        "\n",
        "  steps = row_in_df['steps'].values[0]\n",
        "  steps = steps.strip('][')\n",
        "  parsed_steps = list(re.split('\\',|\\\",', steps))\n",
        "  output_steps = \"Steps: \\n\" \n",
        "  counter = 1\n",
        "  for i in parsed_steps:\n",
        "    i = i.lstrip()\n",
        "    i = i.strip('\\'\\'\"')\n",
        "    output_steps += f\"{counter}. {i} \\n\" \n",
        "    counter += 1\n",
        "  print(output_steps)\n",
        "  return recipe_name\n",
        "user_input = input(\"Enter your ingredients: \") # enter comma-separated ingredients, but be in provided dataset unfortunately\n",
        "recipe_name = getRecipe(user_input)"
      ]
    },
    {
      "cell_type": "markdown",
      "metadata": {
        "id": "xM1LyKMm-8XT"
      },
      "source": [
        "# Testing\n"
      ]
    },
    {
      "cell_type": "code",
      "execution_count": 209,
      "metadata": {
        "colab": {
          "base_uri": "https://localhost:8080/"
        },
        "id": "RabkW1YPRyRk",
        "outputId": "56678a3c-4b2b-4783-cc06-a5969f382881"
      },
      "outputs": [
        {
          "output_type": "stream",
          "name": "stdout",
          "text": [
            "Prediction: arriba   baked winter squash mexican style, Actual: arriba   baked winter squash mexican style\n"
          ]
        }
      ],
      "source": [
        "# Test an input that is an exact match for a recipe\n",
        "test_input = {'winter squash': 1, 'mexican seasoning': 1, 'mixed spice': 1, 'honey': 1, 'butter': 1, 'olive oil': 1, 'salt': 1}\n",
        "# This is the exact ingredient list for arriba baked winter squash mexican style\n",
        "recipes_plus_input = all_recipes.copy()\n",
        "recipes_plus_input.insert(0, test_input)\n",
        "test_data = dv.fit_transform(recipes_plus_input)\n",
        "predictions = mnb.predict(test_data)\n",
        "\n",
        "prediction = predictions[0]\n",
        "actual = 'arriba   baked winter squash mexican style'\n",
        "print(f'Prediction: {prediction}, Actual: {actual}')"
      ]
    },
    {
      "cell_type": "code",
      "source": [
        "# Test an input that has some of the ingredients for a recipe\n",
        "if(getRecipe(\"corn\") == \"amish chicken corn soup\"):\n",
        "  print(\"The output is correct!\")\n",
        "else:\n",
        "  print(\"Output is incorrect!\")\n",
        "if(getRecipe(\"milk\") == \"all chocolate boston cream pie\"):\n",
        "  print(\"The output is correct!\")\n",
        "else:\n",
        "  print(\"Output is incorrect!\")\n",
        "if(getRecipe(\"apple\") == \"alexis apple crunch\"):\n",
        "  print(\"The output is correct!\")\n",
        "else:\n",
        "  print(\"Output is incorrect!\")\n",
        "# should be incorrect\n",
        "if(getRecipe(\"apple\") == \"apple crumble\"):\n",
        "  print(\"The output is correct!\")\n",
        "else:\n",
        "  print(\"Output is incorrect!\")\n",
        "\n"
      ],
      "metadata": {
        "id": "PdUlQ-BhX0cI",
        "colab": {
          "base_uri": "https://localhost:8080/"
        },
        "outputId": "6a8e748c-470c-4e3e-8c45-a741b8526b90"
      },
      "execution_count": 216,
      "outputs": [
        {
          "output_type": "stream",
          "name": "stdout",
          "text": [
            "amish chicken corn soup\n",
            "Recipe: amish chicken corn soup\n",
            "Ingredients: water, boneless skinless chicken breasts, onion, celery, carrot, chicken bouillon cubes, cream-style corn, egg noodles, butter, salt, pepper\n",
            "Steps: \n",
            "1. in a dutch oven or soup kettle , combine the water , chicken , onion , celery , carrots and bouillon \n",
            "2. bring to a boil \n",
            "3. reduce heat \n",
            "4. simmer , uncovered , for 30 minutes or until chicken is no longer pink and vegetables are tender \n",
            "5. stir in the corn , noodles and butter \n",
            "6. cook 10 minutes longer or until noodles are tender \n",
            "7. season with salt and pepper \n",
            "\n",
            "The output is correct!\n",
            "all chocolate boston cream pie\n",
            "Recipe: all chocolate boston cream pie\n",
            "Ingredients: all-purpose flour, sugar, butter, water, cocoa, eggs, buttermilk, baking soda, pure vanilla extract, instant chocolate pudding mix, milk, frozen whipped topping, half-and-half, confectioners' sugar\n",
            "Steps: \n",
            "1. heat oven to 350 degrees \n",
            "2. for cake , combine flour and sugar in large bowl \n",
            "3. set aside \n",
            "4. combine butter , water and cocoa in medium saucepan \n",
            "5. heat to a boil over medium heat , stirring frequently \n",
            "6. pour butter mixture over flour mixture \n",
            "7. mix well \n",
            "8. stir in eggs , buttermilk , baking soda and vanilla \n",
            "9. divide batter between 2 greased 9-inch round cake pans \n",
            "10. bake until wooden pick inserted in center comes out clean , 20 to 25 minutes \n",
            "11. cool in pans 10 minutes \n",
            "12. turn out onto cooling rack \n",
            "13. cool completely \n",
            "14. for filling , combine pudding mix and milk in bowl of electric mixer \n",
            "15. beat on high speed until thickened , 3 to 4 minutes \n",
            "16. add whipped topping \n",
            "17. beat 2 minutes \n",
            "18. refrigerate until set , about 5 minutes \n",
            "19. for glaze , heat butter , cocoa and half-and-half to a boil in medium saucepan over medium-high heat \n",
            "20. remove from heat \n",
            "21. slowly stir in confectioners' sugar \n",
            "22. stir in vanilla \n",
            "23. place 1 cake round upside down onto cake platter \n",
            "24. top with pudding mixture \n",
            "25. it will be a thick layer \n",
            "26. place second cake layer on filling \n",
            "27. slowly pour warm glaze over the top \n",
            "28. allow it to run down sides \n",
            "29. chill 2 to 4 hours before serving \n",
            "\n",
            "The output is correct!\n",
            "alexis apple crunch\n",
            "Recipe: alexis apple crunch\n",
            "Ingredients: apple, candy sprinkles\n",
            "Steps: \n",
            "1. first take the apple and cut the top \n",
            "2. then add nonpareils sprinkles \n",
            "\n",
            "The output is correct!\n",
            "alexis apple crunch\n",
            "Recipe: alexis apple crunch\n",
            "Ingredients: apple, candy sprinkles\n",
            "Steps: \n",
            "1. first take the apple and cut the top \n",
            "2. then add nonpareils sprinkles \n",
            "\n",
            "Output is incorrect!\n"
          ]
        }
      ]
    },
    {
      "cell_type": "markdown",
      "metadata": {
        "id": "X1kskekNCiB1"
      },
      "source": [
        "# Chat Bot\n"
      ]
    },
    {
      "cell_type": "markdown",
      "source": [
        "This section is incomplete. The chatterbot exists and can communicate with the user but it does not interact with the algorithm due to unforeseen constraints."
      ],
      "metadata": {
        "id": "eGyNt7GgW1uk"
      }
    },
    {
      "cell_type": "code",
      "execution_count": 211,
      "metadata": {
        "id": "a8B3NosJFawE",
        "colab": {
          "base_uri": "https://localhost:8080/"
        },
        "outputId": "ac865385-d46b-4991-8d26-6ac61f2ebdbb"
      },
      "outputs": [
        {
          "output_type": "stream",
          "name": "stdout",
          "text": [
            "Requirement already satisfied: chatterbot in /usr/local/lib/python3.7/dist-packages (1.0.8)\n",
            "Requirement already satisfied: chatterbot_corpus in /usr/local/lib/python3.7/dist-packages (1.2.0)\n",
            "Requirement already satisfied: pint in /usr/local/lib/python3.7/dist-packages (0.18)\n",
            "Requirement already satisfied: python-dateutil<2.9,>=2.8 in /usr/local/lib/python3.7/dist-packages (from chatterbot) (2.8.2)\n",
            "Requirement already satisfied: mathparse<0.2,>=0.1 in /usr/local/lib/python3.7/dist-packages (from chatterbot) (0.1.2)\n",
            "Requirement already satisfied: sqlalchemy<1.4,>=1.3 in /usr/local/lib/python3.7/dist-packages (from chatterbot) (1.3.24)\n",
            "Requirement already satisfied: pytz in /usr/local/lib/python3.7/dist-packages (from chatterbot) (2018.9)\n",
            "Requirement already satisfied: six>=1.5 in /usr/local/lib/python3.7/dist-packages (from python-dateutil<2.9,>=2.8->chatterbot) (1.15.0)\n",
            "Requirement already satisfied: PyYAML<4.0,>=3.12 in /usr/local/lib/python3.7/dist-packages (from chatterbot_corpus) (3.13)\n",
            "Requirement already satisfied: importlib-metadata in /usr/local/lib/python3.7/dist-packages (from pint) (4.11.3)\n",
            "Requirement already satisfied: packaging in /usr/local/lib/python3.7/dist-packages (from pint) (21.3)\n",
            "Requirement already satisfied: typing-extensions>=3.6.4 in /usr/local/lib/python3.7/dist-packages (from importlib-metadata->pint) (4.1.1)\n",
            "Requirement already satisfied: zipp>=0.5 in /usr/local/lib/python3.7/dist-packages (from importlib-metadata->pint) (3.8.0)\n",
            "Requirement already satisfied: pyparsing!=3.0.5,>=2.0.2 in /usr/local/lib/python3.7/dist-packages (from packaging->pint) (3.0.8)\n"
          ]
        }
      ],
      "source": [
        "pip install chatterbot chatterbot_corpus pint"
      ]
    },
    {
      "cell_type": "code",
      "execution_count": 212,
      "metadata": {
        "id": "LgHrh3luCrNp"
      },
      "outputs": [],
      "source": [
        "from chatterbot import ChatBot\n",
        "from chatterbot.trainers import ListTrainer\n",
        "from chatterbot.trainers import ChatterBotCorpusTrainer\n",
        "from chatterbot.logic import LogicAdapter"
      ]
    },
    {
      "cell_type": "code",
      "execution_count": 213,
      "metadata": {
        "id": "R7fStg8SLuES"
      },
      "outputs": [],
      "source": [
        "class BestRecipe(LogicAdapter):\n",
        "    def __init__(self, chatbot, **kwargs):\n",
        "        super().__init__(chatbot, **kwargs)\n",
        "\n",
        "    def can_process(self, statement):\n",
        "        return True\n",
        "\n",
        "    def process(self, input_statement, additional_response_selection_parameters):\n",
        "        import random\n",
        "\n",
        "        # Randomly select a confidence between 0 and 1\n",
        "        confidence = random.uniform(0, 1)\n",
        "\n",
        "        # For this example, we will just return the input as output\n",
        "        selected_statement = input_statement\n",
        "        selected_statement.confidence = confidence\n",
        "\n",
        "        return selected_statement"
      ]
    },
    {
      "cell_type": "code",
      "execution_count": 214,
      "metadata": {
        "id": "C6-XJrwzCwcU",
        "colab": {
          "base_uri": "https://localhost:8080/",
          "height": 300
        },
        "outputId": "b4fae601-569b-414e-f02d-20334dc0e7ec"
      },
      "outputs": [
        {
          "output_type": "error",
          "ename": "ValueError",
          "evalue": "ignored",
          "traceback": [
            "\u001b[0;31m---------------------------------------------------------------------------\u001b[0m",
            "\u001b[0;31mValueError\u001b[0m                                Traceback (most recent call last)",
            "\u001b[0;32m<ipython-input-214-ebeebfeee236>\u001b[0m in \u001b[0;36m<module>\u001b[0;34m()\u001b[0m\n\u001b[1;32m      5\u001b[0m               \u001b[0;34m'chatterbot.logic.BestMatch'\u001b[0m\u001b[0;34m,\u001b[0m\u001b[0;34m\u001b[0m\u001b[0;34m\u001b[0m\u001b[0m\n\u001b[1;32m      6\u001b[0m               {\n\u001b[0;32m----> 7\u001b[0;31m               \u001b[0;34m'import_path'\u001b[0m\u001b[0;34m:\u001b[0m \u001b[0;34m'BestRecipe'\u001b[0m\u001b[0;34m\u001b[0m\u001b[0;34m\u001b[0m\u001b[0m\n\u001b[0m\u001b[1;32m      8\u001b[0m               }\n\u001b[1;32m      9\u001b[0m               ])\n",
            "\u001b[0;32m/usr/local/lib/python3.7/dist-packages/chatterbot/chatterbot.py\u001b[0m in \u001b[0;36m__init__\u001b[0;34m(self, name, **kwargs)\u001b[0m\n\u001b[1;32m     35\u001b[0m \u001b[0;34m\u001b[0m\u001b[0m\n\u001b[1;32m     36\u001b[0m         \u001b[0;32mfor\u001b[0m \u001b[0madapter\u001b[0m \u001b[0;32min\u001b[0m \u001b[0mlogic_adapters\u001b[0m\u001b[0;34m:\u001b[0m\u001b[0;34m\u001b[0m\u001b[0;34m\u001b[0m\u001b[0m\n\u001b[0;32m---> 37\u001b[0;31m             \u001b[0mutils\u001b[0m\u001b[0;34m.\u001b[0m\u001b[0mvalidate_adapter_class\u001b[0m\u001b[0;34m(\u001b[0m\u001b[0madapter\u001b[0m\u001b[0;34m,\u001b[0m \u001b[0mLogicAdapter\u001b[0m\u001b[0;34m)\u001b[0m\u001b[0;34m\u001b[0m\u001b[0;34m\u001b[0m\u001b[0m\n\u001b[0m\u001b[1;32m     38\u001b[0m             \u001b[0mlogic_adapter\u001b[0m \u001b[0;34m=\u001b[0m \u001b[0mutils\u001b[0m\u001b[0;34m.\u001b[0m\u001b[0minitialize_class\u001b[0m\u001b[0;34m(\u001b[0m\u001b[0madapter\u001b[0m\u001b[0;34m,\u001b[0m \u001b[0mself\u001b[0m\u001b[0;34m,\u001b[0m \u001b[0;34m**\u001b[0m\u001b[0mkwargs\u001b[0m\u001b[0;34m)\u001b[0m\u001b[0;34m\u001b[0m\u001b[0;34m\u001b[0m\u001b[0m\n\u001b[1;32m     39\u001b[0m             \u001b[0mself\u001b[0m\u001b[0;34m.\u001b[0m\u001b[0mlogic_adapters\u001b[0m\u001b[0;34m.\u001b[0m\u001b[0mappend\u001b[0m\u001b[0;34m(\u001b[0m\u001b[0mlogic_adapter\u001b[0m\u001b[0;34m)\u001b[0m\u001b[0;34m\u001b[0m\u001b[0;34m\u001b[0m\u001b[0m\n",
            "\u001b[0;32m/usr/local/lib/python3.7/dist-packages/chatterbot/utils.py\u001b[0m in \u001b[0;36mvalidate_adapter_class\u001b[0;34m(validate_class, adapter_class)\u001b[0m\n\u001b[1;32m     62\u001b[0m         \u001b[0mvalidate_class\u001b[0m \u001b[0;34m=\u001b[0m \u001b[0mvalidate_class\u001b[0m\u001b[0;34m.\u001b[0m\u001b[0mget\u001b[0m\u001b[0;34m(\u001b[0m\u001b[0;34m'import_path'\u001b[0m\u001b[0;34m)\u001b[0m\u001b[0;34m\u001b[0m\u001b[0;34m\u001b[0m\u001b[0m\n\u001b[1;32m     63\u001b[0m \u001b[0;34m\u001b[0m\u001b[0m\n\u001b[0;32m---> 64\u001b[0;31m     \u001b[0;32mif\u001b[0m \u001b[0;32mnot\u001b[0m \u001b[0missubclass\u001b[0m\u001b[0;34m(\u001b[0m\u001b[0mimport_module\u001b[0m\u001b[0;34m(\u001b[0m\u001b[0mvalidate_class\u001b[0m\u001b[0;34m)\u001b[0m\u001b[0;34m,\u001b[0m \u001b[0madapter_class\u001b[0m\u001b[0;34m)\u001b[0m\u001b[0;34m:\u001b[0m\u001b[0;34m\u001b[0m\u001b[0;34m\u001b[0m\u001b[0m\n\u001b[0m\u001b[1;32m     65\u001b[0m         raise Adapter.InvalidAdapterTypeException(\n\u001b[1;32m     66\u001b[0m             '{} must be a subclass of {}'.format(\n",
            "\u001b[0;32m/usr/local/lib/python3.7/dist-packages/chatterbot/utils.py\u001b[0m in \u001b[0;36mimport_module\u001b[0;34m(dotted_path)\u001b[0m\n\u001b[1;32m     13\u001b[0m     \u001b[0mmodule_parts\u001b[0m \u001b[0;34m=\u001b[0m \u001b[0mdotted_path\u001b[0m\u001b[0;34m.\u001b[0m\u001b[0msplit\u001b[0m\u001b[0;34m(\u001b[0m\u001b[0;34m'.'\u001b[0m\u001b[0;34m)\u001b[0m\u001b[0;34m\u001b[0m\u001b[0;34m\u001b[0m\u001b[0m\n\u001b[1;32m     14\u001b[0m     \u001b[0mmodule_path\u001b[0m \u001b[0;34m=\u001b[0m \u001b[0;34m'.'\u001b[0m\u001b[0;34m.\u001b[0m\u001b[0mjoin\u001b[0m\u001b[0;34m(\u001b[0m\u001b[0mmodule_parts\u001b[0m\u001b[0;34m[\u001b[0m\u001b[0;34m:\u001b[0m\u001b[0;34m-\u001b[0m\u001b[0;36m1\u001b[0m\u001b[0;34m]\u001b[0m\u001b[0;34m)\u001b[0m\u001b[0;34m\u001b[0m\u001b[0;34m\u001b[0m\u001b[0m\n\u001b[0;32m---> 15\u001b[0;31m     \u001b[0mmodule\u001b[0m \u001b[0;34m=\u001b[0m \u001b[0mimportlib\u001b[0m\u001b[0;34m.\u001b[0m\u001b[0mimport_module\u001b[0m\u001b[0;34m(\u001b[0m\u001b[0mmodule_path\u001b[0m\u001b[0;34m)\u001b[0m\u001b[0;34m\u001b[0m\u001b[0;34m\u001b[0m\u001b[0m\n\u001b[0m\u001b[1;32m     16\u001b[0m \u001b[0;34m\u001b[0m\u001b[0m\n\u001b[1;32m     17\u001b[0m     \u001b[0;32mreturn\u001b[0m \u001b[0mgetattr\u001b[0m\u001b[0;34m(\u001b[0m\u001b[0mmodule\u001b[0m\u001b[0;34m,\u001b[0m \u001b[0mmodule_parts\u001b[0m\u001b[0;34m[\u001b[0m\u001b[0;34m-\u001b[0m\u001b[0;36m1\u001b[0m\u001b[0;34m]\u001b[0m\u001b[0;34m)\u001b[0m\u001b[0;34m\u001b[0m\u001b[0;34m\u001b[0m\u001b[0m\n",
            "\u001b[0;32m/usr/lib/python3.7/importlib/__init__.py\u001b[0m in \u001b[0;36mimport_module\u001b[0;34m(name, package)\u001b[0m\n\u001b[1;32m    125\u001b[0m                 \u001b[0;32mbreak\u001b[0m\u001b[0;34m\u001b[0m\u001b[0;34m\u001b[0m\u001b[0m\n\u001b[1;32m    126\u001b[0m             \u001b[0mlevel\u001b[0m \u001b[0;34m+=\u001b[0m \u001b[0;36m1\u001b[0m\u001b[0;34m\u001b[0m\u001b[0;34m\u001b[0m\u001b[0m\n\u001b[0;32m--> 127\u001b[0;31m     \u001b[0;32mreturn\u001b[0m \u001b[0m_bootstrap\u001b[0m\u001b[0;34m.\u001b[0m\u001b[0m_gcd_import\u001b[0m\u001b[0;34m(\u001b[0m\u001b[0mname\u001b[0m\u001b[0;34m[\u001b[0m\u001b[0mlevel\u001b[0m\u001b[0;34m:\u001b[0m\u001b[0;34m]\u001b[0m\u001b[0;34m,\u001b[0m \u001b[0mpackage\u001b[0m\u001b[0;34m,\u001b[0m \u001b[0mlevel\u001b[0m\u001b[0;34m)\u001b[0m\u001b[0;34m\u001b[0m\u001b[0;34m\u001b[0m\u001b[0m\n\u001b[0m\u001b[1;32m    128\u001b[0m \u001b[0;34m\u001b[0m\u001b[0m\n\u001b[1;32m    129\u001b[0m \u001b[0;34m\u001b[0m\u001b[0m\n",
            "\u001b[0;32m/usr/lib/python3.7/importlib/_bootstrap.py\u001b[0m in \u001b[0;36m_gcd_import\u001b[0;34m(name, package, level)\u001b[0m\n",
            "\u001b[0;32m/usr/lib/python3.7/importlib/_bootstrap.py\u001b[0m in \u001b[0;36m_sanity_check\u001b[0;34m(name, package, level)\u001b[0m\n",
            "\u001b[0;31mValueError\u001b[0m: Empty module name"
          ]
        }
      ],
      "source": [
        "bot = ChatBot('RecipeBot',\n",
        "              logic_adapters=[\n",
        "              'chatterbot.logic.UnitConversion',\n",
        "              'chatterbot.logic.MathematicalEvaluation',\n",
        "              'chatterbot.logic.BestMatch',\n",
        "              {\n",
        "              'import_path': 'BestRecipe'\n",
        "              }\n",
        "              ])"
      ]
    },
    {
      "cell_type": "code",
      "execution_count": null,
      "metadata": {
        "id": "zauffhYqCzKO"
      },
      "outputs": [],
      "source": [
        "trainer = ChatterBotCorpusTrainer(bot)\n",
        "\n",
        "# Train based on the english corpus\n",
        "trainer.train(\"chatterbot.corpus.english\")\n",
        "\n",
        "trainer2 = ListTrainer(bot)\n",
        "\n",
        "# Implement conversation sampless here\n",
        "trainer2.train([\n",
        "        \n",
        "])"
      ]
    },
    {
      "cell_type": "code",
      "execution_count": null,
      "metadata": {
        "id": "pgo-kZFuHFfs"
      },
      "outputs": [],
      "source": [
        "# Prints the convertion given the specific question\n",
        "question = \"How are you?\"\n",
        "response = bot.get_response(question)\n",
        "print(question + ' -  Response: ' + response.text)"
      ]
    },
    {
      "cell_type": "code",
      "execution_count": null,
      "metadata": {
        "id": "VShplI_UHc-D"
      },
      "outputs": [],
      "source": [
        "while True:\n",
        "    try:\n",
        "        user_input = input()\n",
        "\n",
        "        bot_response = bot.get_response(user_input)\n",
        "\n",
        "        print(bot_response)\n",
        "\n",
        "    # Press ctrl-c or ctrl-d on the keyboard to exit\n",
        "    except (KeyboardInterrupt, EOFError, SystemExit):\n",
        "        break"
      ]
    }
  ],
  "metadata": {
    "colab": {
      "collapsed_sections": [],
      "name": "Project.ipynb",
      "provenance": [],
      "include_colab_link": true
    },
    "kernelspec": {
      "display_name": "Python 3",
      "name": "python3"
    },
    "language_info": {
      "name": "python"
    }
  },
  "nbformat": 4,
  "nbformat_minor": 0
}